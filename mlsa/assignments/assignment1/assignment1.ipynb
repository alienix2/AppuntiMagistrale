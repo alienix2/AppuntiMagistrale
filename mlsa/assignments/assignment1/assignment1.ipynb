{
 "cells": [
  {
   "cell_type": "code",
   "execution_count": null,
   "metadata": {},
   "outputs": [],
   "source": [
    "import pandas as pd\n",
    "\n",
    "us_companies_df = pd.read_csv('./us_companies.csv')\n",
    "us_taxes_df = pd.read_csv('./us_state_taxes.csv')\n",
    "\n",
    "# 1. Sort states by number of companies\n",
    "us_companies_by_state = us_companies_df['State'].value_counts().sort_values(ascending=False)\n",
    "print(us_companies_by_state)\n",
    "\n",
    "# 2. Compute the average earning of all the companies\n",
    "us_average_earnings = us_companies_df.Earnings_last_year.mean()\n",
    "print(f\"Average earnings in the us: {us_average_earnings}\")\n",
    "\n",
    "# 3. Compute the average earnings of companies in california\n",
    "california_average_earnings = us_companies_df[us_companies_df.State == 'California'].Earnings_last_year.mean()\n",
    "print(f\"Average earnings in californa: {california_average_earnings}\")\n",
    "\n",
    "# 4. Compute the average earnings in the companies in California and Texas\n",
    "california_texas_average_earnings = us_companies_df[us_companies_df\n",
    "                                        .State.isin(['California', 'Texas'])].Earnings_last_year.mean()\n",
    "print(f\"Average earnings in california and texas: {california_texas_average_earnings}\")\n",
    "\n",
    "# 5.1 Create a new dataframe with taxes computed for each company\n",
    "us_companies_taxes = us_companies_df.merge(us_taxes_df, on='State')\n",
    "print(f\"New dataframe with taxes computed for each company:\\n{us_companies_taxes}\")\n",
    "\n",
    "# 5.2 Calculate how many taxes each company should pay\n",
    "us_companies_taxes['Tax_amount'] = (us_companies_taxes.Earnings_last_year * us_companies_taxes.Tax_percentage)/100\n",
    "print(f\"New dataframe with taxes computed for each company:\\n{us_companies_taxes}\")\n",
    "\n",
    "#5.3 Save the new dataframe to a csv file\n",
    "us_companies_taxes.to_csv('us_companies_taxes.csv', index=False)"
   ]
  }
 ],
 "metadata": {
  "language_info": {
   "name": "python"
  }
 },
 "nbformat": 4,
 "nbformat_minor": 2
}
